{
 "cells": [
  {
   "cell_type": "markdown",
   "id": "9072058c",
   "metadata": {
    "id": "9072058c"
   },
   "source": [
    "# Problem Statement:\n",
    "Homonyms, words with shared spelling or pronunciation but distinct meanings, introduce ambiguity in natural language processing, affecting sentiment analysis and conversational AI accuracy. Developing solutions to disambiguate homonyms based on context is crucial for improving language-based application performance and user experience."
   ]
  },
  {
   "cell_type": "markdown",
   "id": "489446f8",
   "metadata": {
    "id": "489446f8"
   },
   "source": [
    "## Table of Contents\n",
    "\n",
    "1. [**Step 1: Install and Import Required Libraries**](#step-1--install-and-import-required-libraries)\n",
    "2. [**Step 2: Check if SentimentIntensityAnalyzer from NLTK is Homonym-Aware Sentiment Analyzer**](#step-2--check-if-sentimentintensityanalyzer-from-nltk-is-homonym-aware-sentiment-analyzer)\n",
    "3. [**Step 3: Check if distilbert BERT base uncased can help in Homonym-Aware Sentiment Analysis**](#step-3--check-if-distilbert-bert-base-uncased-can-help-in-homonym-aware-sentiment-analysis)\n",
    "4. [**Step 4: Data Exploration**](#step-4--data-exploration)\n",
    "5. [**Step 5: Fine-Tune DistilBERT base uncased on SST-2 dataset from GLUE**](#step-5--fine-tune-distilbert-base-uncased-on-sst-2-dataset-from-glue)\n",
    "   - [**Step 5-1: Loading the Pretrained Model**](#step-5-1--loading-the-pretrained-model)\n",
    "   - [**Step 5-2: Tokenization**](#step-5-2--tokenization)\n",
    "   - [**Step 5-3: Finalizing the Shape of Data**](#step-5-3--finalizing-the-shape-of-data)\n",
    "   - [**Step 5-4: Train the Model**](#step-5-4--train-the-model)\n",
    "6. [**Step 6: Infer using the fine-tuned model**](#step-6--infer-using-the-fine-tuned-model)\n",
    "   - [**Step 6-1: Infer on Whole Sentence**](#step-6-1--infer-on-whole-sentence)\n",
    "   - [**Step 6-2: Infer on Splitted Sentence**](#step-6-2--infer-on-splitted-sentence)"
   ]
  },
  {
   "cell_type": "markdown",
   "id": "0036753c",
   "metadata": {
    "id": "0036753c"
   },
   "source": [
    "## Step 1 : Install and Import Required Libraries"
   ]
  },
  {
   "cell_type": "code",
   "execution_count": null,
   "id": "fcee7dc3",
   "metadata": {
    "colab": {
     "base_uri": "https://localhost:8080/"
    },
    "id": "fcee7dc3",
    "outputId": "7701cdf7-1f88-4350-d5b9-8b9eeedf00ea"
   },
   "outputs": [],
   "source": [
    "!pip install transformers"
   ]
  },
  {
   "cell_type": "code",
   "execution_count": null,
   "id": "c4b2c1d9",
   "metadata": {
    "colab": {
     "base_uri": "https://localhost:8080/"
    },
    "id": "c4b2c1d9",
    "outputId": "f2957adb-38f6-404c-e96a-849620a9af79"
   },
   "outputs": [],
   "source": [
    "!pip install transformers datasets"
   ]
  },
  {
   "cell_type": "code",
   "execution_count": null,
   "id": "9d7c8ce6",
   "metadata": {
    "colab": {
     "base_uri": "https://localhost:8080/"
    },
    "id": "9d7c8ce6",
    "outputId": "42c714b3-ea06-4a96-ca7d-7c32acfd14e7"
   },
   "outputs": [],
   "source": [
    "!pip install torch"
   ]
  },
  {
   "cell_type": "code",
   "execution_count": null,
   "id": "906c6e5e",
   "metadata": {
    "colab": {
     "base_uri": "https://localhost:8080/"
    },
    "id": "906c6e5e",
    "outputId": "d9ad8bca-26fd-40ad-9a5f-e075c4697974"
   },
   "outputs": [],
   "source": [
    "!pip install datasets --upgrade"
   ]
  },
  {
   "cell_type": "code",
   "execution_count": 5,
   "id": "n2ldWiFnvoa3",
   "metadata": {
    "id": "n2ldWiFnvoa3"
   },
   "outputs": [],
   "source": [
    "!pip install accelerate>=0.20.1"
   ]
  },
  {
   "cell_type": "code",
   "execution_count": null,
   "id": "8iaI2MXLvhjT",
   "metadata": {
    "colab": {
     "base_uri": "https://localhost:8080/"
    },
    "id": "8iaI2MXLvhjT",
    "outputId": "8cad3b88-823d-4e71-b104-811f4da38d19"
   },
   "outputs": [],
   "source": [
    "!pip install transformers[torch]"
   ]
  },
  {
   "cell_type": "code",
   "execution_count": null,
   "id": "0VLp0Jse0j6o",
   "metadata": {
    "colab": {
     "base_uri": "https://localhost:8080/"
    },
    "id": "0VLp0Jse0j6o",
    "outputId": "051fb32b-6fb0-4f2b-dcca-780736c88bb9"
   },
   "outputs": [],
   "source": [
    "!pip install matplotlib"
   ]
  },
  {
   "cell_type": "code",
   "execution_count": null,
   "id": "z6FR_IP7Ni_S",
   "metadata": {
    "colab": {
     "base_uri": "https://localhost:8080/"
    },
    "id": "z6FR_IP7Ni_S",
    "outputId": "05cf199a-5b8c-4362-8379-f8dd7cbbf643"
   },
   "outputs": [],
   "source": [
    "!pip install spacy-wordnet"
   ]
  },
  {
   "cell_type": "code",
   "execution_count": 9,
   "id": "ONzpVMQ3UIkw",
   "metadata": {
    "colab": {
     "base_uri": "https://localhost:8080/"
    },
    "id": "ONzpVMQ3UIkw",
    "outputId": "3b1372f2-a218-4bdb-aa25-df12551d2a36"
   },
   "outputs": [
    {
     "name": "stdout",
     "output_type": "stream",
     "text": [
      "Mounted at /content/drive\n"
     ]
    }
   ],
   "source": [
    "from google.colab import drive\n",
    "\n",
    "drive.mount('/content/drive')"
   ]
  },
  {
   "cell_type": "code",
   "execution_count": 10,
   "id": "5840a87a",
   "metadata": {
    "id": "5840a87a"
   },
   "outputs": [],
   "source": [
    "# import necessary libraries\n",
    "import warnings\n",
    "warnings.filterwarnings(\"ignore\")\n",
    "\n",
    "import spacy\n",
    "import nltk\n",
    "import torch\n",
    "import torch.nn.functional as F\n",
    "import matplotlib.pyplot as plt\n",
    "from nltk.sentiment import SentimentIntensityAnalyzer\n",
    "from datasets import load_dataset\n",
    "from transformers import BertTokenizerFast\n",
    "from transformers import AutoModelForSequenceClassification, AutoTokenizer, Trainer, TrainingArguments, DistilBertForSequenceClassification, DistilBertTokenizer\n",
    "from transformers import BertForSequenceClassification, BertTokenizer\n",
    "from transformers import pipeline\n",
    "from transformers import AdamW, get_linear_schedule_with_warmup\n",
    "from torch.utils.data import DataLoader, Dataset\n",
    "from datasets import load_dataset\n",
    "from sklearn.metrics import accuracy_score, f1_score\n",
    "from torch.utils.tensorboard import SummaryWriter\n",
    "from tqdm import tqdm\n",
    "from nltk.corpus import wordnet"
   ]
  },
  {
   "cell_type": "code",
   "execution_count": 11,
   "id": "hv_Z_-bwqSMM",
   "metadata": {
    "colab": {
     "base_uri": "https://localhost:8080/"
    },
    "id": "hv_Z_-bwqSMM",
    "outputId": "839e12a7-5870-48d8-ad4d-9f6ad0bf4926"
   },
   "outputs": [
    {
     "name": "stdout",
     "output_type": "stream",
     "text": [
      "GPU is available:  True\n"
     ]
    }
   ],
   "source": [
    "# Check if CUDA (GPU support) is available\n",
    "print(\"GPU is available: \", torch.cuda.is_available())"
   ]
  },
  {
   "cell_type": "markdown",
   "id": "a84d2761",
   "metadata": {
    "id": "a84d2761"
   },
   "source": [
    "## Step 2 : Check if SentimentIntensityAnalyzer from NLTK is Homonym-Aware Sentiment Analyzer"
   ]
  },
  {
   "cell_type": "code",
   "execution_count": null,
   "id": "0c2dae51",
   "metadata": {
    "colab": {
     "base_uri": "https://localhost:8080/"
    },
    "id": "0c2dae51",
    "outputId": "3e9adeaa-b345-4636-a9bd-643942e93aa8"
   },
   "outputs": [
    {
     "name": "stderr",
     "output_type": "stream",
     "text": [
      "[nltk_data] Downloading package vader_lexicon to /root/nltk_data...\n"
     ]
    },
    {
     "data": {
      "text/plain": [
       "True"
      ]
     },
     "execution_count": 12,
     "metadata": {},
     "output_type": "execute_result"
    }
   ],
   "source": [
    "# Download the VADER Lexicon using the nltk library\n",
    "nltk.download('vader_lexicon')"
   ]
  },
  {
   "cell_type": "code",
   "execution_count": null,
   "id": "e91a509c",
   "metadata": {
    "id": "e91a509c"
   },
   "outputs": [],
   "source": [
    "# Load spaCy model\n",
    "nlp = spacy.load(\"en_core_web_sm\")"
   ]
  },
  {
   "cell_type": "code",
   "execution_count": null,
   "id": "01f8f610",
   "metadata": {
    "id": "01f8f610"
   },
   "outputs": [],
   "source": [
    "# Function to perform sentiment analysis\n",
    "def overall_sentiment_analysis(sentence):\n",
    "    # Tokenize the sentence using spaCy\n",
    "    doc = nlp(sentence)\n",
    "\n",
    "    # Initialize SentimentIntensityAnalyzer from NLTK\n",
    "    sia = SentimentIntensityAnalyzer()\n",
    "\n",
    "    # Aggregate sentiment scores for the entire sentence\n",
    "    sentence_sentiment = 0\n",
    "    for token in doc:\n",
    "        aspect = token.text.lower()  # Use lowercase for uniformity\n",
    "        sentiment_score = sia.polarity_scores(aspect)[\"compound\"]\n",
    "        sentence_sentiment += sentiment_score\n",
    "\n",
    "    # Determine overall sentiment label based on the aggregated score\n",
    "    if sentence_sentiment >= 0.05:\n",
    "        overall_sentiment_label = \"positive\"\n",
    "    elif sentence_sentiment <= -0.05:\n",
    "        overall_sentiment_label = \"negative\"\n",
    "    else:\n",
    "        overall_sentiment_label = \"neutral\"\n",
    "\n",
    "    return overall_sentiment_label"
   ]
  },
  {
   "cell_type": "code",
   "execution_count": null,
   "id": "4a4d7301",
   "metadata": {
    "colab": {
     "base_uri": "https://localhost:8080/"
    },
    "id": "4a4d7301",
    "outputId": "0c8b6043-82c2-4fa9-c7c5-d15d11ba58f1"
   },
   "outputs": [
    {
     "name": "stdout",
     "output_type": "stream",
     "text": [
      "Sentence: I hate the selfishness in you\n",
      "Predicted Sentiment: negative\n",
      "==============================\n",
      "Sentence: I hate anyone who can hurt you\n",
      "Predicted Sentiment: negative\n",
      "==============================\n",
      "Sentence: I will despise anyone despises you\n",
      "Predicted Sentiment: negative\n",
      "==============================\n"
     ]
    }
   ],
   "source": [
    "# Example sentences\n",
    "sentence1 = \"I hate the selfishness in you\"\n",
    "sentence2 = \"I hate anyone who can hurt you\"\n",
    "sentence3 = \"I will despise anyone despises you\"\n",
    "\n",
    "# Perform overall sentiment analysis\n",
    "overall_sentiment1 = overall_sentiment_analysis(sentence1)\n",
    "overall_sentiment2 = overall_sentiment_analysis(sentence2)\n",
    "overall_sentiment3 = overall_sentiment_analysis(sentence3)\n",
    "\n",
    "# Format and print results\n",
    "def print_sentiment_result(sentence, result):\n",
    "    print(\"Sentence:\", sentence)\n",
    "    print(\"Predicted Sentiment:\", overall_sentiment2)\n",
    "    print(\"==============================\")\n",
    "\n",
    "# Print results for each sentence\n",
    "print_sentiment_result(sentence1, overall_sentiment1)\n",
    "print_sentiment_result(sentence2, overall_sentiment2)\n",
    "print_sentiment_result(sentence3, overall_sentiment3)"
   ]
  },
  {
   "cell_type": "markdown",
   "id": "5cf8dac6",
   "metadata": {
    "id": "5cf8dac6"
   },
   "source": [
    "## Step 3 : Check if distilbert BERT base uncased can help in Homonym-Aware Sentiment Analysis"
   ]
  },
  {
   "cell_type": "code",
   "execution_count": null,
   "id": "b80999a0",
   "metadata": {
    "colab": {
     "base_uri": "https://localhost:8080/"
    },
    "id": "b80999a0",
    "outputId": "a5818501-6a5f-4945-b440-e4bcebc8dad7"
   },
   "outputs": [
    {
     "name": "stderr",
     "output_type": "stream",
     "text": [
      "Some weights of DistilBertForSequenceClassification were not initialized from the model checkpoint at distilbert-base-uncased and are newly initialized: ['classifier.bias', 'classifier.weight', 'pre_classifier.weight', 'pre_classifier.bias']\n",
      "You should probably TRAIN this model on a down-stream task to be able to use it for predictions and inference.\n"
     ]
    },
    {
     "name": "stdout",
     "output_type": "stream",
     "text": [
      "Sentence: I hate the selfishness in you\n",
      "Predicted Sentiment: negative\n",
      "==============================\n",
      "Sentence: I hate anyone who can hurt you\n",
      "Predicted Sentiment: negative\n",
      "==============================\n",
      "Sentence: I will despise anyone despises you\n",
      "Predicted Sentiment: negative\n",
      "==============================\n"
     ]
    }
   ],
   "source": [
    "# Define the sentiment analyzer using BERT base uncased\n",
    "sentiment_analyzer_bert = pipeline(\"sentiment-analysis\", model=\"distilbert-base-uncased\")\n",
    "\n",
    "# Example sentences\n",
    "sentence1 = \"I hate the selfishness in you\"\n",
    "sentence2 = \"I hate anyone who can hurt you\"\n",
    "sentence3 = \"I will despise anyone despises you\"\n",
    "# Perform sentiment analysis\n",
    "result1 = sentiment_analyzer_bert(sentence1)\n",
    "result2 = sentiment_analyzer_bert(sentence2)\n",
    "result3 = sentiment_analyzer_bert(sentence3)\n",
    "\n",
    "# Format and print results\n",
    "def print_sentiment_result(sentence, result):\n",
    "    print(\"Sentence:\", sentence)\n",
    "\n",
    "    # Map label to negative or positive\n",
    "    sentiment_category = \"negative\" if result[0]['label'] == 'LABEL_1' else \"positive\"\n",
    "\n",
    "    print(\"Predicted Sentiment:\", sentiment_category)\n",
    "    print(\"==============================\")\n",
    "\n",
    "# Print results for each sentence\n",
    "print_sentiment_result(sentence1, result1)\n",
    "print_sentiment_result(sentence2, result2)\n",
    "print_sentiment_result(sentence3, result3)"
   ]
  },
  {
   "cell_type": "markdown",
   "id": "71ace2fb",
   "metadata": {
    "id": "71ace2fb"
   },
   "source": [
    "## Step 4 : Data Exploration"
   ]
  },
  {
   "cell_type": "code",
   "execution_count": null,
   "id": "46679312",
   "metadata": {
    "id": "46679312"
   },
   "outputs": [],
   "source": [
    "# Load the GLUE dataset for SST-2\n",
    "dataset = load_dataset(\"glue\", \"sst2\")"
   ]
  },
  {
   "cell_type": "code",
   "execution_count": null,
   "id": "6eNWcwpmZLST",
   "metadata": {
    "id": "6eNWcwpmZLST"
   },
   "outputs": [],
   "source": [
    "# Split the dataset into training, validation, and test sets\n",
    "train_dataset = dataset[\"train\"]\n",
    "valid_dataset = dataset[\"validation\"]"
   ]
  },
  {
   "cell_type": "code",
   "execution_count": null,
   "id": "adXXt-tr0W6M",
   "metadata": {
    "id": "adXXt-tr0W6M"
   },
   "outputs": [],
   "source": [
    "# Extracting sentences from the training dataset\n",
    "sentences = train_dataset[\"sentence\"]"
   ]
  },
  {
   "cell_type": "code",
   "execution_count": null,
   "id": "5T4uUsLo0W7U",
   "metadata": {
    "id": "5T4uUsLo0W7U"
   },
   "outputs": [],
   "source": [
    "# Calculate the lengths of sentences in terms of the number of words\n",
    "sentence_lengths = [len(sentence.split()) for sentence in sentences]"
   ]
  },
  {
   "cell_type": "code",
   "execution_count": null,
   "id": "b91JcRr205d_",
   "metadata": {
    "colab": {
     "base_uri": "https://localhost:8080/"
    },
    "id": "b91JcRr205d_",
    "outputId": "1d6fd571-fbd9-4533-f47b-eddaa3a867e8"
   },
   "outputs": [
    {
     "name": "stdout",
     "output_type": "stream",
     "text": [
      "The maximum sentence length is: 52 words.\n",
      "The average sentence length is: 9.41 words.\n"
     ]
    }
   ],
   "source": [
    "# Find the maximum length\n",
    "max_length = max(sentence_lengths)\n",
    "\n",
    "# Calculate the average length\n",
    "average_length = sum(sentence_lengths) / len(sentence_lengths)\n",
    "\n",
    "print(f\"The maximum sentence length is: {max_length} words.\")\n",
    "print(f\"The average sentence length is: {average_length:.2f} words.\")"
   ]
  },
  {
   "cell_type": "code",
   "execution_count": null,
   "id": "tz4ki8CC0XAG",
   "metadata": {
    "colab": {
     "base_uri": "https://localhost:8080/",
     "height": 472
    },
    "id": "tz4ki8CC0XAG",
    "outputId": "84a01cc5-e35e-4eb4-f32e-729c08496ee6"
   },
   "outputs": [
    {
     "data": {
      "image/png": "[encoded data removed]",
      "text/plain": [
       "<Figure size 640x480 with 1 Axes>"
      ]
     },
     "metadata": {},
     "output_type": "display_data"
    }
   ],
   "source": [
    "# Plotting the histogram\n",
    "plt.hist(sentence_lengths, bins=50, color='blue', edgecolor='black')\n",
    "plt.title('Distribution of Sentence Lengths in SST-2 Dataset')\n",
    "plt.xlabel('Sentence Length')\n",
    "plt.ylabel('Frequency')\n",
    "plt.show()"
   ]
  },
  {
   "cell_type": "code",
   "execution_count": null,
   "id": "JaBOeoqG1Wpo",
   "metadata": {
    "colab": {
     "base_uri": "https://localhost:8080/",
     "height": 472
    },
    "id": "JaBOeoqG1Wpo",
    "outputId": "2e5caf02-6284-426f-c8d8-c03dee60ab8c"
   },
   "outputs": [
    {
     "data": {
      "image/png": "[encoded data removed]",
      "text/plain": [
       "<Figure size 640x480 with 1 Axes>"
      ]
     },
     "metadata": {},
     "output_type": "display_data"
    }
   ],
   "source": [
    "# Create a boxplot\n",
    "plt.boxplot(sentence_lengths, vert=False)\n",
    "\n",
    "# Add labels and title\n",
    "plt.xlabel('Sentence Length')\n",
    "plt.title('Boxplot of Sentence Lengths in SST-2 Dataset')\n",
    "\n",
    "# Show the plot\n",
    "plt.show()"
   ]
  },
  {
   "cell_type": "markdown",
   "id": "d286fbad",
   "metadata": {
    "id": "d286fbad"
   },
   "source": [
    "## Step 5 : Fine-Tune DistilBERT base uncased on SST-2 dataset from GLUE"
   ]
  },
  {
   "cell_type": "code",
   "execution_count": null,
   "id": "h-Pybfbbhcia",
   "metadata": {
    "id": "h-Pybfbbhcia"
   },
   "outputs": [],
   "source": [
    "batch_size = 128  # Set the batch size for training\n",
    "weight_decay = 0.01  # Set the weight decay for regularization during training\n",
    "learning_rate = 2e-5  # Set the learning rate for the optimizer during training\n",
    "num_train_epochs = 3  # Set the number of training epochs\n",
    "max_len = 32  # Set the maximum length of input sequences"
   ]
  },
  {
   "cell_type": "code",
   "execution_count": null,
   "id": "ekSOsxozMRKp",
   "metadata": {
    "id": "ekSOsxozMRKp"
   },
   "outputs": [],
   "source": [
    "# Check if GPU is available, otherwise use CPU\n",
    "device = torch.device(\"cuda\" if torch.cuda.is_available() else \"cpu\")"
   ]
  },
  {
   "cell_type": "markdown",
   "id": "58759751",
   "metadata": {
    "id": "58759751"
   },
   "source": [
    "### Step 5-1 : Loading the Pretrained Model"
   ]
  },
  {
   "cell_type": "code",
   "execution_count": null,
   "id": "ywqnNdevyBSL",
   "metadata": {
    "colab": {
     "base_uri": "https://localhost:8080/"
    },
    "id": "ywqnNdevyBSL",
    "outputId": "0a57fbcb-9956-41be-87d3-b71d568c7036"
   },
   "outputs": [
    {
     "name": "stderr",
     "output_type": "stream",
     "text": [
      "Some weights of DistilBertForSequenceClassification were not initialized from the model checkpoint at distilbert-base-uncased and are newly initialized: ['classifier.bias', 'pre_classifier.bias', 'classifier.weight', 'pre_classifier.weight']\n",
      "You should probably TRAIN this model on a down-stream task to be able to use it for predictions and inference.\n"
     ]
    }
   ],
   "source": [
    "# Load the pretrained model and tokenizer\n",
    "model_name = \"distilbert-base-uncased\"\n",
    "model = (AutoModelForSequenceClassification.from_pretrained(model_name,\n",
    "                                                            num_labels = 2).to(device))\n",
    "tokenizer = AutoTokenizer.from_pretrained(model_name)"
   ]
  },
  {
   "cell_type": "markdown",
   "id": "0fa5e70d",
   "metadata": {
    "id": "0fa5e70d"
   },
   "source": [
    "### Step 5-2 : Tokenization"
   ]
  },
  {
   "cell_type": "code",
   "execution_count": null,
   "id": "q_i9ApHmUl8e",
   "metadata": {
    "id": "q_i9ApHmUl8e"
   },
   "outputs": [],
   "source": [
    "# Tokenize the sentences in the dataset using DistilBERT tokenizer\n",
    "def tokenize_data(dataset):\n",
    "    input_ids = []\n",
    "    attention_masks = []\n",
    "\n",
    "    # Use tqdm for a progress bar\n",
    "    for sentence in tqdm(dataset['sentence'], desc=\"Tokenizing\"):\n",
    "\n",
    "        # Tokenize the modified sentence using DistilBERT tokenizer\n",
    "        encoded_dict = tokenizer.encode_plus(\n",
    "            sentence,\n",
    "            add_special_tokens=True,\n",
    "            max_length=max_len,\n",
    "            padding=\"max_length\",\n",
    "            truncation=True,\n",
    "            return_attention_mask=True,\n",
    "            return_tensors='pt'\n",
    "        )\n",
    "\n",
    "        input_ids.append(encoded_dict['input_ids'])\n",
    "        attention_masks.append(encoded_dict['attention_mask'])\n",
    "\n",
    "    return torch.cat(input_ids, dim=0), torch.cat(attention_masks, dim=0), torch.tensor(dataset['label'])"
   ]
  },
  {
   "cell_type": "code",
   "execution_count": null,
   "id": "6kcaZ87nYejY",
   "metadata": {
    "colab": {
     "base_uri": "https://localhost:8080/"
    },
    "id": "6kcaZ87nYejY",
    "outputId": "86cc096f-a2fa-46c0-e891-ff5f8bb40d84"
   },
   "outputs": [
    {
     "name": "stderr",
     "output_type": "stream",
     "text": [
      "Tokenizing: 100%|██████████| 67349/67349 [00:12<00:00, 5420.78it/s]\n",
      "Tokenizing: 100%|██████████| 872/872 [00:00<00:00, 5017.17it/s]\n"
     ]
    }
   ],
   "source": [
    "# Tokenize the sentences in the training dataset using DistilBERT tokenizer\n",
    "train_input_ids, train_attention_masks, train_labels = tokenize_data(train_dataset)\n",
    "\n",
    "# Tokenize the sentences in the validation dataset using DistilBERT tokenizer\n",
    "validation_input_ids, validation_attention_masks, validation_labels = tokenize_data(valid_dataset)"
   ]
  },
  {
   "cell_type": "code",
   "execution_count": null,
   "id": "6mHMHN4Ig8Hi",
   "metadata": {
    "colab": {
     "base_uri": "https://localhost:8080/"
    },
    "id": "6mHMHN4Ig8Hi",
    "outputId": "bd300ced-6d7c-4ce0-ba56-66c3d5625093"
   },
   "outputs": [
    {
     "name": "stdout",
     "output_type": "stream",
     "text": [
      "Train Input IDs shape: torch.Size([67349, 32])\n",
      "Validation Input IDs shape: torch.Size([872, 32])\n"
     ]
    }
   ],
   "source": [
    "# Print the shape of the training input IDs\n",
    "print(\"Train Input IDs shape:\", train_input_ids.shape)\n",
    "\n",
    "# Print the shape of the validation input IDs\n",
    "print(\"Validation Input IDs shape:\", validation_input_ids.shape)"
   ]
  },
  {
   "cell_type": "markdown",
   "id": "f814ef79",
   "metadata": {
    "id": "f814ef79"
   },
   "source": [
    "### Step 5-3 : Finalizing the Shape of  Data"
   ]
  },
  {
   "cell_type": "code",
   "execution_count": null,
   "id": "fEo4mFfQMVWy",
   "metadata": {
    "id": "fEo4mFfQMVWy"
   },
   "outputs": [],
   "source": [
    "# Define a custom dataset class for PyTorch\n",
    "class CustomDataset(Dataset):\n",
    "    def __init__(self, input_ids, attention_mask, labels):\n",
    "        self.input_ids = input_ids\n",
    "        self.attention_mask = attention_mask\n",
    "        self.labels = labels\n",
    "\n",
    "    def __len__(self):\n",
    "        return len(self.input_ids)\n",
    "\n",
    "    def __getitem__(self, idx):\n",
    "        input_data = {\n",
    "            'input_ids': torch.tensor(self.input_ids[idx]),\n",
    "            'attention_mask': torch.tensor(self.attention_mask[idx])\n",
    "        }\n",
    "        label = torch.tensor(self.labels[idx])\n",
    "\n",
    "        return {'input_data': input_data, 'label': label}"
   ]
  },
  {
   "cell_type": "code",
   "execution_count": null,
   "id": "Aa16aW8SN-gN",
   "metadata": {
    "id": "Aa16aW8SN-gN"
   },
   "outputs": [],
   "source": [
    "# Create instances of the custom dataset for training and validation\n",
    "train_dataset = CustomDataset(train_input_ids, train_attention_masks, train_labels)\n",
    "validation_dataset = CustomDataset(validation_input_ids, validation_attention_masks, validation_labels)"
   ]
  },
  {
   "cell_type": "code",
   "execution_count": null,
   "id": "jcHvGXixMd1N",
   "metadata": {
    "id": "jcHvGXixMd1N"
   },
   "outputs": [],
   "source": [
    "# Create DataLoader instances for training and validation\n",
    "train_dataloader = DataLoader(train_dataset, batch_size=batch_size, shuffle=True)\n",
    "validation_dataloader = DataLoader(validation_dataset, batch_size=batch_size, shuffle=False)"
   ]
  },
  {
   "cell_type": "markdown",
   "id": "086b38ff",
   "metadata": {
    "id": "086b38ff"
   },
   "source": [
    "### Step 5-4 : Train the Model"
   ]
  },
  {
   "cell_type": "code",
   "execution_count": null,
   "id": "9hgQh_qwCOzr",
   "metadata": {
    "id": "9hgQh_qwCOzr"
   },
   "outputs": [],
   "source": [
    "# Set up the optimizer\n",
    "optimizer = AdamW(\n",
    "    model.parameters(),\n",
    "    lr=learning_rate,\n",
    "    weight_decay=weight_decay,\n",
    ")\n",
    "\n",
    "# Set up the learning rate scheduler\n",
    "scheduler = get_linear_schedule_with_warmup(\n",
    "    optimizer,\n",
    "    num_warmup_steps=0,\n",
    "    num_training_steps=len(train_dataloader) * num_train_epochs\n",
    ")"
   ]
  },
  {
   "cell_type": "code",
   "execution_count": null,
   "id": "nLreaxQy-eg5",
   "metadata": {
    "colab": {
     "base_uri": "https://localhost:8080/"
    },
    "id": "nLreaxQy-eg5",
    "outputId": "0776b4da-b21c-48b7-cd42-7aa74a7d7513"
   },
   "outputs": [
    {
     "name": "stderr",
     "output_type": "stream",
     "text": [
      "Epoch 1: 100%|██████████| 527/527 [02:49<00:00,  3.10it/s]\n"
     ]
    },
    {
     "name": "stdout",
     "output_type": "stream",
     "text": [
      "Epoch 1 - Training Accuracy: 0.8888, Training F1: 0.9012, Validation Accuracy: 0.8922, Validation F1: 0.8978\n"
     ]
    },
    {
     "name": "stderr",
     "output_type": "stream",
     "text": [
      "Epoch 2: 100%|██████████| 527/527 [02:48<00:00,  3.13it/s]\n"
     ]
    },
    {
     "name": "stdout",
     "output_type": "stream",
     "text": [
      "Epoch 2 - Training Accuracy: 0.9482, Training F1: 0.9534, Validation Accuracy: 0.8945, Validation F1: 0.8989\n"
     ]
    },
    {
     "name": "stderr",
     "output_type": "stream",
     "text": [
      "Epoch 3: 100%|██████████| 527/527 [02:47<00:00,  3.14it/s]\n"
     ]
    },
    {
     "name": "stdout",
     "output_type": "stream",
     "text": [
      "Epoch 3 - Training Accuracy: 0.9635, Training F1: 0.9672, Validation Accuracy: 0.8945, Validation F1: 0.8976\n"
     ]
    }
   ],
   "source": [
    "# Inside your training loop\n",
    "for epoch in range(num_train_epochs):\n",
    "    # Training phase\n",
    "    model.train()\n",
    "    all_train_preds = []\n",
    "    all_train_labels = []\n",
    "\n",
    "    # Wrap the train_dataloader with tqdm for the epoch\n",
    "    with tqdm(train_dataloader, desc=f\"Epoch {epoch + 1}\", total = len(train_dataloader), position=0, leave=True) as epoch_progress:\n",
    "      for batch in epoch_progress:\n",
    "          input_ids = batch['input_data']['input_ids'].to(device)\n",
    "          attention_mask = batch['input_data']['attention_mask'].to(device)\n",
    "          labels = batch['label'].to(device)\n",
    "\n",
    "          optimizer.zero_grad()\n",
    "          outputs = model(input_ids=input_ids, attention_mask=attention_mask, labels=labels)\n",
    "          # loss = outputs.loss\n",
    "          # Assuming binary classification, convert labels to one-hot\n",
    "          labels_one_hot = F.one_hot(labels, num_classes=2).float()\n",
    "          # Calculate binary cross-entropy with logits\n",
    "          logits = outputs.logits\n",
    "          loss = F.binary_cross_entropy_with_logits(logits, labels_one_hot)\n",
    "          loss.backward()\n",
    "          optimizer.step()\n",
    "\n",
    "          _, train_preds = torch.max(outputs.logits, dim=1)\n",
    "          all_train_preds.extend(train_preds.cpu().numpy())\n",
    "          all_train_labels.extend(labels.cpu().numpy())\n",
    "\n",
    "          # Update the learning rate\n",
    "          scheduler.step()\n",
    "\n",
    "      train_accuracy = accuracy_score(all_train_labels, all_train_preds)\n",
    "      train_f1 = f1_score(all_train_labels, all_train_preds)\n",
    "\n",
    "\n",
    "    # Save the model after each epoch\n",
    "    model.save_pretrained(f\"/content/drive/MyDrive/fine_tuned_models/model_epoch_{epoch + 1}\")\n",
    "    tokenizer.save_pretrained(f\"/content/drive/MyDrive/fine_tuned_models/model_epoch_{epoch + 1}\")\n",
    "\n",
    "    # Validation phase\n",
    "    model.eval()\n",
    "    all_val_preds = []\n",
    "    all_val_labels = []\n",
    "\n",
    "    # Wrap the validation_dataloader with tqdm\n",
    "    with tqdm(validation_dataloader, desc=f\"Validation - Epoch {epoch + 1}\", total=len(validation_dataloader), position=0, leave=False) as val_progress:\n",
    "      with torch.no_grad():\n",
    "          for batch in val_progress:\n",
    "              input_ids = batch['input_data']['input_ids'].to(device)\n",
    "              attention_mask = batch['input_data']['attention_mask'].to(device)\n",
    "              labels = batch['label'].to(device)\n",
    "              outputs = model(input_ids=input_ids, attention_mask=attention_mask, labels=labels)\n",
    "              _, val_preds = torch.max(outputs.logits, dim=1)\n",
    "\n",
    "              all_val_preds.extend(val_preds.cpu().numpy())\n",
    "              all_val_labels.extend(labels.cpu().numpy())\n",
    "\n",
    "    val_accuracy = accuracy_score(all_val_labels, all_val_preds)\n",
    "    val_f1 = f1_score(all_val_labels, all_val_preds)\n",
    "    print(f\"Epoch {epoch + 1} - Training Accuracy: {train_accuracy:.4f}, Training F1: {train_f1:.4f}, Validation Accuracy: {val_accuracy:.4f}, Validation F1: {val_f1:.4f}\")"
   ]
  },
  {
   "cell_type": "markdown",
   "id": "fe874295",
   "metadata": {
    "id": "fe874295"
   },
   "source": [
    "## Step 6 : Infer using the fine tuned model"
   ]
  },
  {
   "cell_type": "markdown",
   "id": "c49f52f1",
   "metadata": {
    "id": "c49f52f1"
   },
   "source": [
    "### Step 6-1 : Infer on Whole Sentence"
   ]
  },
  {
   "cell_type": "code",
   "execution_count": null,
   "id": "ytD4yIHEBSyZ",
   "metadata": {
    "id": "ytD4yIHEBSyZ"
   },
   "outputs": [],
   "source": [
    "# Define a function to predict sentiment using the fine-tuned distilbert model\n",
    "def predict_sentiment(sentences, model_path=\"/content/drive/MyDrive/fine_tuned_models/model_epoch_3\"):\n",
    "    # Load the fine-tuned model and tokenizer\n",
    "    model = AutoModelForSequenceClassification.from_pretrained(model_path)\n",
    "    tokenizer = AutoTokenizer.from_pretrained(model_path)\n",
    "\n",
    "    # Set the device\n",
    "    device = torch.device(\"cuda\" if torch.cuda.is_available() else \"cpu\")\n",
    "    model.to(device)\n",
    "\n",
    "    # Lists to store predictions and logits\n",
    "    all_sentiments = []\n",
    "    all_confidence_scores = []\n",
    "\n",
    "    # Loop over sentences\n",
    "    for sentence in sentences:\n",
    "        # Encode the sentences using the tokenizer\n",
    "        encoded_sentences = tokenizer.encode_plus(\n",
    "                                sentence,\n",
    "                                add_special_tokens=True,\n",
    "                                max_length=32,\n",
    "                                padding=\"max_length\",\n",
    "                                truncation=True,\n",
    "                                return_attention_mask=True,\n",
    "                                return_tensors='pt'\n",
    "                            )\n",
    "\n",
    "        # Move the input tensors to the device\n",
    "        input_ids = encoded_sentences[\"input_ids\"].to(device)\n",
    "        attention_mask = encoded_sentences[\"attention_mask\"].to(device)\n",
    "\n",
    "        # Make predictions\n",
    "        with torch.no_grad():\n",
    "            model.eval()\n",
    "            logits = model(input_ids, attention_mask=attention_mask).logits\n",
    "\n",
    "        # Get predicted labels\n",
    "        predicted_labels = torch.argmax(logits, dim=1).tolist()\n",
    "\n",
    "        # Map labels to sentiment strings\n",
    "        sentiments = [\"positive\" if label == 1 else \"negative\" for label in predicted_labels]\n",
    "\n",
    "        # Apply softmax to convert logits to probabilities\n",
    "        probabilities = torch.nn.functional.softmax(logits, dim=1)\n",
    "        confidence_scores = probabilities.max(dim=1).values.tolist()\n",
    "\n",
    "        # Append to the lists\n",
    "        all_sentiments.append(sentiments)\n",
    "        all_confidence_scores.append(confidence_scores)\n",
    "\n",
    "    # Return the list of predicted sentiments and logits\n",
    "    return all_sentiments, all_confidence_scores"
   ]
  },
  {
   "cell_type": "code",
   "execution_count": null,
   "id": "BNXu6NRWcive",
   "metadata": {
    "colab": {
     "base_uri": "https://localhost:8080/"
    },
    "id": "BNXu6NRWcive",
    "outputId": "13ce3a72-bd3f-45de-ac9a-325c24d19e0c"
   },
   "outputs": [
    {
     "name": "stdout",
     "output_type": "stream",
     "text": [
      "Sentence: I hate the selfishness in you\n",
      "Predicted Sentiment: negative\n",
      "==============================\n",
      "Sentence: I hate any one can hurt you\n",
      "Predicted Sentiment: positive\n",
      "==============================\n",
      "Sentence: I will despise anyone despises you\n",
      "Predicted Sentiment: positive\n",
      "==============================\n",
      "Sentence: I hate any one who can hurt you\n",
      "Predicted Sentiment: negative\n",
      "==============================\n"
     ]
    }
   ],
   "source": [
    "# Inference\n",
    "sentences = [\"I hate the selfishness in you\", \"I hate any one can hurt you\", \"I will despise anyone despises you\", \"I hate any one who can hurt you\"]\n",
    "predicted_sentiments, confidence_scores = predict_sentiment(sentences)\n",
    "\n",
    "# Print the results with only four decimal places\n",
    "for sentence, sentiment, confidence in zip(sentences, predicted_sentiments, confidence_scores):\n",
    "    confidence_str = ', '.join(['{:.3f}'.format(score) for score in confidence])\n",
    "\n",
    "    print(f\"Sentence: {sentence}\")\n",
    "    print(f\"Predicted Sentiment: {sentiment[0]}\")\n",
    "    print(\"=\" * 30)"
   ]
  },
  {
   "cell_type": "markdown",
   "id": "c6b0ef20",
   "metadata": {
    "id": "c6b0ef20"
   },
   "source": [
    "### Step 6-2 : Infer on Splitted Sentence"
   ]
  },
  {
   "cell_type": "code",
   "execution_count": 16,
   "id": "272b429a",
   "metadata": {
    "id": "272b429a"
   },
   "outputs": [],
   "source": [
    "# Define a function to predict sentiment using the fine-tuned distilbert model\n",
    "def predict_sentiment(sentences, model_path=\"/content/drive/MyDrive/fine_tuned_models/model_epoch_3\"):\n",
    "    # Load the fine-tuned model and tokenizer\n",
    "    model = AutoModelForSequenceClassification.from_pretrained(model_path)\n",
    "    tokenizer = AutoTokenizer.from_pretrained(model_path)\n",
    "\n",
    "    # Set the device\n",
    "    device = torch.device(\"cuda\" if torch.cuda.is_available() else \"cpu\")\n",
    "    model.to(device)\n",
    "\n",
    "    # Lists to store predictions and logits\n",
    "    all_sentiments = []\n",
    "    all_confidence_scores = []\n",
    "\n",
    "    # Loop over sentences\n",
    "    for sentence in sentences:\n",
    "        # Split the sentence into two halves\n",
    "        half_length = len(sentence) // 2\n",
    "        first_half = sentence[:half_length].strip()\n",
    "        second_half = sentence[half_length:].strip()\n",
    "\n",
    "        print(\"First Half of Sentence:\", first_half)\n",
    "        print(\"Second Half of Sentence:\", second_half)\n",
    "\n",
    "        # Process the first half\n",
    "        encoded_sentences_first = tokenizer.encode_plus(\n",
    "                                first_half,\n",
    "                                add_special_tokens=True,\n",
    "                                max_length=32,\n",
    "                                padding=\"max_length\",\n",
    "                                truncation=True,\n",
    "                                return_attention_mask=True,\n",
    "                                return_tensors='pt'\n",
    "                            )\n",
    "\n",
    "        input_ids_first = encoded_sentences_first[\"input_ids\"].to(device)\n",
    "        attention_mask_first = encoded_sentences_first[\"attention_mask\"].to(device)\n",
    "\n",
    "        with torch.no_grad():\n",
    "            model.eval()\n",
    "            logits_first = model(input_ids_first, attention_mask=attention_mask_first).logits\n",
    "\n",
    "        predicted_labels_first = torch.argmax(logits_first, dim=1).tolist()\n",
    "        sentiments_first = [\"positive\" if label == 1 else \"negative\" for label in predicted_labels_first]\n",
    "        probabilities_first = torch.nn.functional.softmax(logits_first, dim=1)\n",
    "        confidence_scores_first = probabilities_first.max(dim=1).values.tolist()\n",
    "\n",
    "        # Process the second half\n",
    "        encoded_sentences_second = tokenizer.encode_plus(\n",
    "                                second_half,\n",
    "                                add_special_tokens=True,\n",
    "                                max_length=32,\n",
    "                                padding=\"max_length\",\n",
    "                                truncation=True,\n",
    "                                return_attention_mask=True,\n",
    "                                return_tensors='pt'\n",
    "                            )\n",
    "\n",
    "        input_ids_second = encoded_sentences_second[\"input_ids\"].to(device)\n",
    "        attention_mask_second = encoded_sentences_second[\"attention_mask\"].to(device)\n",
    "\n",
    "        with torch.no_grad():\n",
    "            model.eval()\n",
    "            logits_second = model(input_ids_second, attention_mask=attention_mask_second).logits\n",
    "\n",
    "        predicted_labels_second = torch.argmax(logits_second, dim=1).tolist()\n",
    "        sentiments_second = [\"positive\" if label == 1 else \"negative\" for label in predicted_labels_second]\n",
    "        probabilities_second = torch.nn.functional.softmax(logits_second, dim=1)\n",
    "        confidence_scores_second = probabilities_second.max(dim=1).values.tolist()\n",
    "\n",
    "        # Combine results for both halves\n",
    "        all_sentiments.append([sentiments_first, sentiments_second])\n",
    "        all_confidence_scores.append([confidence_scores_first, confidence_scores_second])\n",
    "\n",
    "    # Return the list of predicted sentiments and logits\n",
    "    return all_sentiments, all_confidence_scores"
   ]
  },
  {
   "cell_type": "code",
   "execution_count": 17,
   "id": "09ef4199",
   "metadata": {
    "colab": {
     "base_uri": "https://localhost:8080/"
    },
    "id": "09ef4199",
    "outputId": "78836d03-eab9-4acd-b025-b8ac9deb5dc9"
   },
   "outputs": [
    {
     "name": "stdout",
     "output_type": "stream",
     "text": [
      "First Half of Sentence: I hate any one\n",
      "Second Half of Sentence: who can hurt you\n",
      "First Half - Predicted Sentiment: negative\n",
      "First Half - Confidence Scores: 0.9981\n",
      "==============================\n",
      "Second Half - Predicted Sentiment: negative\n",
      "Second Half - Confidence Scores: 0.9948\n",
      "==============================\n"
     ]
    }
   ],
   "source": [
    "sentences = [\"I hate any one who can hurt you\"]\n",
    "predicted_sentiments, confidence_scores = predict_sentiment(sentences)\n",
    "\n",
    "# Print the results with only four decimal places\n",
    "for (sentiments_first, sentiments_second), (confidence_scores_first, confidence_scores_second) in zip(\n",
    "    predicted_sentiments, confidence_scores\n",
    "):\n",
    "    confidence_str_first = ', '.join(['{:.4f}'.format(score) for score in confidence_scores_first])\n",
    "    confidence_str_second = ', '.join(['{:.4f}'.format(score) for score in confidence_scores_second])\n",
    "\n",
    "    print(\"First Half - Predicted Sentiment:\", sentiments_first[0])\n",
    "    print(\"First Half - Confidence Scores:\", confidence_str_first)\n",
    "    print(\"=\" * 30)\n",
    "\n",
    "    print(\"Second Half - Predicted Sentiment:\", sentiments_second[0])\n",
    "    print(\"Second Half - Confidence Scores:\", confidence_str_second)\n",
    "    print(\"=\" * 30)"
   ]
  }
 ],
 "metadata": {
  "accelerator": "GPU",
  "colab": {
   "gpuType": "T4",
   "provenance": []
  },
  "kernelspec": {
   "display_name": "Python 3 (ipykernel)",
   "language": "python",
   "name": "python3"
  },
  "language_info": {
   "codemirror_mode": {
    "name": "ipython",
    "version": 3
   },
   "file_extension": ".py",
   "mimetype": "text/x-python",
   "name": "python",
   "nbconvert_exporter": "python",
   "pygments_lexer": "ipython3",
   "version": "3.9.13"
  }
 },
 "nbformat": 4,
 "nbformat_minor": 5
}
